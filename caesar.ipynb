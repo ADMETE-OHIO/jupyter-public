{
 "cells": [
  {
   "cell_type": "code",
   "execution_count": null,
   "metadata": {
    "collapsed": true
   },
   "outputs": [],
   "source": []
  },
  {
   "cell_type": "markdown",
   "source": [
    "# The Caesar Cipher\n",
    "\n",
    "In this cipher, we have the notion of an \"alphabet\", which is the set of symbols that can be used to write down the plain and cipher texts. For example, the alphabet could consist of only lowercase letters in the English alphabet (26 symbols), upper and lowercase (52 symbols), or upper, lower and numbers (62 symbols). During encryption, each symbol in the plaintext will be replaced by another symbol in the same alphabet. The mapping between symbols thus forms the \"key\". While this key can be represented in binary, we shall not do so at this time to avoid confusion. Let's generate the key using Python, assume that the alphabet consists of lowercase letters only:"
   ],
   "metadata": {
    "collapsed": false
   }
  },
  {
   "cell_type": "code",
   "execution_count": 3,
   "outputs": [
    {
     "name": "stdout",
     "output_type": "stream",
     "text": [
      "a will be replaced by c in this cipher\n",
      "b will be replaced by j in this cipher\n",
      "c will be replaced by w in this cipher\n",
      "d will be replaced by q in this cipher\n",
      "e will be replaced by a in this cipher\n",
      "f will be replaced by u in this cipher\n",
      "g will be replaced by e in this cipher\n",
      "h will be replaced by x in this cipher\n",
      "i will be replaced by k in this cipher\n",
      "j will be replaced by p in this cipher\n",
      "k will be replaced by l in this cipher\n",
      "l will be replaced by h in this cipher\n",
      "m will be replaced by r in this cipher\n",
      "n will be replaced by b in this cipher\n",
      "o will be replaced by z in this cipher\n",
      "p will be replaced by t in this cipher\n",
      "q will be replaced by o in this cipher\n",
      "r will be replaced by n in this cipher\n",
      "s will be replaced by s in this cipher\n",
      "t will be replaced by y in this cipher\n",
      "u will be replaced by m in this cipher\n",
      "v will be replaced by f in this cipher\n",
      "w will be replaced by d in this cipher\n",
      "x will be replaced by i in this cipher\n",
      "y will be replaced by v in this cipher\n",
      "z will be replaced by g in this cipher\n"
     ]
    }
   ],
   "source": [
    "import random\n",
    "alphabet = 'abcdefghijklmnopqrstuvwxyz'\n",
    "key = ''.join(random.sample(alphabet, len(alphabet)))\n",
    "key_dict = {}\n",
    "\n",
    "for i in range(len(alphabet)):\n",
    "    key_dict[alphabet[i]] = key[i]\n",
    "\n",
    "for key in key_dict.keys():\n",
    "    print(key, \"will be replaced by\", key_dict[key], \"during encryption\")"
   ],
   "metadata": {
    "collapsed": false,
    "pycharm": {
     "name": "#%%\n"
    }
   }
  },
  {
   "cell_type": "markdown",
   "source": [
    "## Encryption\n",
    "\n",
    "We need to replace each letter in the plaintext according to above mapping."
   ],
   "metadata": {
    "collapsed": false
   }
  },
  {
   "cell_type": "code",
   "execution_count": 4,
   "outputs": [
    {
     "name": "stdout",
     "output_type": "stream",
     "text": [
      "h was replaced by x\n",
      "e was replaced by a\n",
      "l was replaced by h\n",
      "l was replaced by h\n",
      "o was replaced by z\n",
      "ciphertext is xahhz\n"
     ]
    }
   ],
   "source": [
    "plaintext = 'hello'\n",
    "ciphertext = ''\n",
    "for char in plaintext:\n",
    "    ctext = key_dict[char]\n",
    "    ciphertext += ctext\n",
    "    print(char, \"was replaced by\", ctext)\n",
    "\n",
    "print(\"ciphertext is\", ciphertext)"
   ],
   "metadata": {
    "collapsed": false,
    "pycharm": {
     "name": "#%%\n"
    }
   }
  },
  {
   "cell_type": "markdown",
   "source": [
    "Note that patterns involving repetition of letters are still visible in the ciphertext. Since `hello` contains two `l`s in sequence, the ciphertext also contains two `h`s in sequence, *at exactly the same position in the word*. This important drawback makes this Caesar cipher easily breakable, using a technique called frequency analysis.\n",
    "\n",
    "## Decryption\n",
    "\n",
    "Decryption is equally simple - we simply do a reverse lookup in the above mapping. To make things easy, let us build a reverse dictionary:\n"
   ],
   "metadata": {
    "collapsed": false
   }
  },
  {
   "cell_type": "code",
   "execution_count": 6,
   "outputs": [
    {
     "name": "stdout",
     "output_type": "stream",
     "text": [
      "c will be replaced by a during decryption\n",
      "j will be replaced by b during decryption\n",
      "w will be replaced by c during decryption\n",
      "q will be replaced by d during decryption\n",
      "a will be replaced by e during decryption\n",
      "u will be replaced by f during decryption\n",
      "e will be replaced by g during decryption\n",
      "x will be replaced by h during decryption\n",
      "k will be replaced by i during decryption\n",
      "p will be replaced by j during decryption\n",
      "l will be replaced by k during decryption\n",
      "h will be replaced by l during decryption\n",
      "r will be replaced by m during decryption\n",
      "b will be replaced by n during decryption\n",
      "z will be replaced by o during decryption\n",
      "t will be replaced by p during decryption\n",
      "o will be replaced by q during decryption\n",
      "n will be replaced by r during decryption\n",
      "s will be replaced by s during decryption\n",
      "y will be replaced by t during decryption\n",
      "m will be replaced by u during decryption\n",
      "f will be replaced by v during decryption\n",
      "d will be replaced by w during decryption\n",
      "i will be replaced by x during decryption\n",
      "v will be replaced by y during decryption\n",
      "g will be replaced by z during decryption\n"
     ]
    }
   ],
   "source": [
    "reverse_dict = {}\n",
    "\n",
    "for key in key_dict.keys():\n",
    "    val = key_dict[key]\n",
    "    reverse_dict[val] = key\n",
    "    print(val, \"will be replaced by\", reverse_dict[val], \"during decryption\")"
   ],
   "metadata": {
    "collapsed": false,
    "pycharm": {
     "name": "#%%\n"
    }
   }
  },
  {
   "cell_type": "markdown",
   "source": [
    "We are now ready to decrypt the ciphertext"
   ],
   "metadata": {
    "collapsed": false
   }
  },
  {
   "cell_type": "code",
   "execution_count": 7,
   "outputs": [
    {
     "name": "stdout",
     "output_type": "stream",
     "text": [
      "x was replaced by h\n",
      "a was replaced by e\n",
      "h was replaced by l\n",
      "h was replaced by l\n",
      "z was replaced by o\n",
      "decrypted string is hello\n"
     ]
    }
   ],
   "source": [
    "decrypted = ''\n",
    "for char in ciphertext:\n",
    "    ptxt = reverse_dict[char]\n",
    "    decrypted += ptxt\n",
    "    print(char, \"was replaced by\", ptxt)\n",
    "\n",
    "print(\"decrypted string is\", decrypted)"
   ],
   "metadata": {
    "collapsed": false,
    "pycharm": {
     "name": "#%%\n"
    }
   }
  },
  {
   "cell_type": "markdown",
   "source": [
    "# Exercises\n",
    "- Extend the above code to include numbers 0-9 in the alphabet."
   ],
   "metadata": {
    "collapsed": false,
    "pycharm": {
     "name": "#%% md\n"
    }
   }
  }
 ],
 "metadata": {
  "kernelspec": {
   "display_name": "Python 3",
   "language": "python",
   "name": "python3"
  },
  "language_info": {
   "codemirror_mode": {
    "name": "ipython",
    "version": 2
   },
   "file_extension": ".py",
   "mimetype": "text/x-python",
   "name": "python",
   "nbconvert_exporter": "python",
   "pygments_lexer": "ipython2",
   "version": "2.7.6"
  }
 },
 "nbformat": 4,
 "nbformat_minor": 0
}