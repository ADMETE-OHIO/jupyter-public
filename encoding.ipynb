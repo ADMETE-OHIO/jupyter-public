{
 "cells": [
  {
   "cell_type": "markdown",
   "metadata": {
    "collapsed": true,
    "pycharm": {
     "name": "#%% md\n"
    }
   },
   "source": [
    "# Digital representation of data\n",
    "\n",
    "Real world data such as pictures and music in the analog world can be represented digitally for comptuers to use and process. Let us see some examples.\n",
    "\n",
    "\n",
    "## Decimal, binary and hex representation of numbers\n",
    "Computers use the binary system, usually consisting of two symbols `1` and `0`, to represent data. This is nothing but the base-2 system, just like we use the base-10 system in everyday life. Internally, these two symbols are mapped to physical quantities such as two voltage levels +5 volts/-5 volts, or the presence/absence of a magnetic field, in order for a computer to process the data. Let us see how binary representation works, for the decimal number 5. In python, to get the binary representation of the number 5, use the `bin` function:"
   ]
  },
  {
   "cell_type": "code",
   "execution_count": null,
   "outputs": [],
   "source": [
    "bin(5)"
   ],
   "metadata": {
    "collapsed": false,
    "pycharm": {
     "name": "#%%\n"
    }
   }
  },
  {
   "cell_type": "markdown",
   "source": [
    "We see that the ouput is `0b101`. The first two digits, `0` and lowercase `b` indicate that what follows is to be read in base-2 notation. The next three digits, `101` are the base-2 representation of the decimal number 5.\n",
    "\n",
    "However, for large numbers, the binary representation can be very long and hard to manage. For example:"
   ],
   "metadata": {
    "collapsed": false,
    "pycharm": {
     "name": "#%% md\n"
    }
   }
  },
  {
   "cell_type": "code",
   "execution_count": null,
   "outputs": [],
   "source": [
    "bin(65535)"
   ],
   "metadata": {
    "collapsed": false,
    "pycharm": {
     "name": "#%%\n"
    }
   }
  },
  {
   "cell_type": "markdown",
   "source": [
    "This is why we use the *hexadecimal* (base-16) representation to help manage large numbers. In hex, we use 16 symbols: `0 1 2 3 4 5 6 7 8 9 A B C D E F`, just like the decimal system uses ten symbols (0-10) and the binary system uses two (0 and 1). The same number is compactly represented in hex using just four hex digits:"
   ],
   "metadata": {
    "collapsed": false
   }
  },
  {
   "cell_type": "code",
   "execution_count": null,
   "outputs": [],
   "source": [
    "hex(65535)"
   ],
   "metadata": {
    "collapsed": false,
    "pycharm": {
     "name": "#%%\n"
    }
   }
  },
  {
   "cell_type": "markdown",
   "source": [
    "\n",
    "## ASCII representation of alphabets and other symbols\n",
    "\n"
   ],
   "metadata": {
    "collapsed": false
   }
  }
 ],
 "metadata": {
  "kernelspec": {
   "display_name": "Python 3",
   "language": "python",
   "name": "python3"
  },
  "language_info": {
   "codemirror_mode": {
    "name": "ipython",
    "version": 2
   },
   "file_extension": ".py",
   "mimetype": "text/x-python",
   "name": "python",
   "nbconvert_exporter": "python",
   "pygments_lexer": "ipython2",
   "version": "2.7.6"
  }
 },
 "nbformat": 4,
 "nbformat_minor": 0
}